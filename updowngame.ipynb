{
 "cells": [
  {
   "cell_type": "markdown",
   "metadata": {},
   "source": [
    "\n",
    "# variable 'com' stands for 'computer'\n",
    "\n",
    "# varibale 'me'  means 'user'\n",
    "\n",
    "# 'me' input  A number .( range 1  rom 100 )\n",
    "\n",
    " # 'com' also hit A random Number. Also guess what 'me' enter:)\n",
    "\n",
    " # 'com' have to Do Well   \n",
    " # I do this(have to Do Well)  narrowing the range  \n"
   ]
  },
  {
   "cell_type": "code",
   "execution_count": 8,
   "metadata": {},
   "outputs": [
    {
     "name": "stdout",
     "output_type": "stream",
     "text": [
      "Enter a Number.(1~ 100)\n",
      "65\n",
      "me: 65 com: 67\n",
      " me is smaller than com\n",
      "com:  54\n",
      "me: 65 com: 54\n",
      "me is bigger than 'com'\n",
      "com:  74\n",
      "me: 65 com: 74\n",
      " me is smaller than com\n",
      "com:  40\n",
      "me: 65 com: 40\n",
      "me is bigger than 'com'\n",
      "com:  75\n",
      "me: 65 com: 75\n",
      " me is smaller than com\n",
      "com:  64\n",
      "me: 65 com: 64\n",
      "me is bigger than 'com'\n",
      "com:  94\n",
      "me: 65 com: 94\n",
      " me is smaller than com\n",
      "com:  72\n",
      "me: 65 com: 72\n",
      " me is smaller than com\n",
      "com:  71\n",
      "me: 65 com: 71\n",
      " me is smaller than com\n",
      "com:  26\n",
      "me: 65 com: 26\n",
      "me is bigger than 'com'\n",
      "com:  84\n",
      "me: 65 com: 84\n",
      " me is smaller than com\n",
      "com:  65\n",
      "me: 65 com: 65\n",
      " answer correct! com :  65 , you enter: 65\n"
     ]
    }
   ],
   "source": [
    "\n",
    "import random\n",
    "me = 0 # initialize variable/\n",
    "gotit = 0 # if 'com' equals with 'me' than 'gotit' will change as '1'/ \n",
    "\n",
    "print(\"Enter a Number.(1~ 100)\")\n",
    "me = int(input())# me Acts as 'CONSTANT'\n",
    "\n",
    "com = random.randint(1,100) # initailze 'com', also means 'First Hit'!\n",
    "\n",
    "while gotit == 0:\n",
    "    \n",
    "    print(\"me:\", me, \"com:\", com) #Debug! :)\n",
    "    if me > com :\n",
    "        print(\"me is bigger than 'com'\")\n",
    "        \n",
    "        com = random.randint(com + 1, 100) #  narrow the range\n",
    "        print(\"com: \",com)\n",
    "    elif me < com:\n",
    "        print(\" me is smaller than com\")\n",
    "        com = random.randint(1,com-1) # narrowing the range\n",
    "        print(\"com: \",com)\n",
    "    else:\n",
    "        gotit =1 # 정답이면 while 문 나오기 \n",
    "        print(\" answer correct! com : \", com, \", you enter:\", me)"
   ]
  },
  {
   "cell_type": "code",
   "execution_count": null,
   "metadata": {},
   "outputs": [],
   "source": []
  },
  {
   "cell_type": "code",
   "execution_count": null,
   "metadata": {},
   "outputs": [],
   "source": []
  }
 ],
 "metadata": {
  "kernelspec": {
   "display_name": "Python 3",
   "language": "python",
   "name": "python3"
  },
  "language_info": {
   "codemirror_mode": {
    "name": "ipython",
    "version": 3
   },
   "file_extension": ".py",
   "mimetype": "text/x-python",
   "name": "python",
   "nbconvert_exporter": "python",
   "pygments_lexer": "ipython3",
   "version": "3.6.5"
  }
 },
 "nbformat": 4,
 "nbformat_minor": 2
}
