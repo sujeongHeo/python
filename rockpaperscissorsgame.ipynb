{
 "cells": [
  {
   "cell_type": "markdown",
   "metadata": {},
   "source": [
    "# play with computer!!! \n",
    "#  variable 'com' stands for Rock Paper Scissors"
   ]
  },
  {
   "cell_type": "code",
   "execution_count": 5,
   "metadata": {},
   "outputs": [
    {
     "name": "stdout",
     "output_type": "stream",
     "text": [
      "Enter Rock , Paper,  Scissors\n",
      "Paper\n",
      "You Win.\n"
     ]
    }
   ],
   "source": [
    "import random\n",
    "com = None\n",
    "me = None\n",
    "com=random.randint(1,3)\n",
    "print(\"Enter Rock , Paper,  Scissors\")\n",
    "me = input()  # input only number \n",
    "# com '1' means Rock , '2' means Paper, '3' means Scissors\n",
    "if (com == 1 and me ==\"Paper\") or (com == 2 and me ==\"Scissors\") or (com == 3 and me==\"Rock\"):\n",
    "    print(\"You Win.\")\n",
    "elif(com == 1 and me ==\"Rock\") or (com == 2 and me==\"Paper\") or (com ==3 and me==\"Scissors\"):\n",
    "    print(\"DRAW\")\n",
    "elif (me != \"Rock\" and me != \"Paper\" and me != \"Sissors\"):\n",
    "    print(\"inputs are Wrong\")\n",
    "else:\n",
    "    print(\"You Lose\")\n",
    "    print(\"computer number was \", com)\n",
    "    print(\"'1' means Rock , '2' means Paper, '3' means Scissors\")"
   ]
  },
  {
   "cell_type": "code",
   "execution_count": null,
   "metadata": {},
   "outputs": [],
   "source": []
  }
 ],
 "metadata": {
  "kernelspec": {
   "display_name": "Python 3",
   "language": "python",
   "name": "python3"
  },
  "language_info": {
   "codemirror_mode": {
    "name": "ipython",
    "version": 3
   },
   "file_extension": ".py",
   "mimetype": "text/x-python",
   "name": "python",
   "nbconvert_exporter": "python",
   "pygments_lexer": "ipython3",
   "version": "3.6.5"
  }
 },
 "nbformat": 4,
 "nbformat_minor": 2
}
